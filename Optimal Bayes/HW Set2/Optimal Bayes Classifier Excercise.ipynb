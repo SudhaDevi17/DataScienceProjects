{
 "cells": [
  {
   "cell_type": "markdown",
   "metadata": {},
   "source": [
    "# Optimal Bayes Classifier - Excercise Notebook\n",
    "\n",
    "\n",
    "### Comparing Optimal Bayes and Naive Bayes using simulated Gaussian data for non-zero covariance."
   ]
  },
  {
   "cell_type": "markdown",
   "metadata": {},
   "source": [
    "#### Imports"
   ]
  },
  {
   "cell_type": "code",
   "execution_count": null,
   "metadata": {},
   "outputs": [],
   "source": [
    "import numpy as np\n",
    "import pandas as pd\n",
    "from matplotlib import pyplot as plt\n",
    "import matplotlib.colors as colors\n",
    "import seaborn as sns\n",
    "import itertools\n",
    "from scipy.stats import norm\n",
    "import scipy.stats\n",
    "from sklearn.naive_bayes import GaussianNB\n",
    "\n",
    "%matplotlib inline\n",
    "sns.set()"
   ]
  },
  {
   "cell_type": "markdown",
   "metadata": {},
   "source": [
    "#### Data Generation"
   ]
  },
  {
   "cell_type": "code",
   "execution_count": null,
   "metadata": {},
   "outputs": [],
   "source": [
    "# Data generation\n",
    "\n",
    "#data of Gaussian Distributions\n",
    "#distribution 1\n",
    "mu1 = [2, 2]\n",
    "sigma1 = [[5, 0], [0, 5]] # Notice the 0 covariance\n",
    "x1, y1 = np.random.multivariate_normal(mu1, sigma1, 100).T\n",
    "\n",
    "#distribution 2\n",
    "mu2 = [-2, -2]\n",
    "sigma2 = [[3, 0], [0, 3]] # Notice the 0 covariance\n",
    "x2, y2 = np.random.multivariate_normal(mu2, sigma2, 100).T"
   ]
  },
  {
   "cell_type": "markdown",
   "metadata": {},
   "source": [
    "#### Excercise: A) Plot the decision boundary"
   ]
  },
  {
   "cell_type": "code",
   "execution_count": null,
   "metadata": {},
   "outputs": [],
   "source": [
    "#%%%%%%%%%%%%%% Excercise: Write the code below %%%%%%%%%%%%%%%%%%%%%%%%%\n",
    "\"\"\"\n",
    "Code for comparing the decision boundary for the optimal and the naive Bayes classifiers goes here\n",
    "\"\"\"\n",
    "\n"
   ]
  },
  {
   "cell_type": "markdown",
   "metadata": {},
   "source": [
    "#### Excercise: B) Accuracies"
   ]
  },
  {
   "cell_type": "code",
   "execution_count": null,
   "metadata": {},
   "outputs": [],
   "source": [
    "#%%%%%%%%%%%%%% EXCERCISE - Write the code below %%%%%%%%%%%%%%%%%%%%%%%%%%%\n",
    "\"\"\"\n",
    "Code for comparing the accuracies of the optimal and the naive Bayes classifiers goes here\n",
    "\"\"\"\n",
    "#Optimal Bayes accuracy\n",
    "\n",
    "\n",
    "#Naive Bayes accuracy\n"
   ]
  }
 ],
 "metadata": {
  "kernelspec": {
   "display_name": "Python 3",
   "language": "python",
   "name": "python3"
  },
  "language_info": {
   "codemirror_mode": {
    "name": "ipython",
    "version": 3
   },
   "file_extension": ".py",
   "mimetype": "text/x-python",
   "name": "python",
   "nbconvert_exporter": "python",
   "pygments_lexer": "ipython3",
   "version": "3.7.3"
  }
 },
 "nbformat": 4,
 "nbformat_minor": 2
}
