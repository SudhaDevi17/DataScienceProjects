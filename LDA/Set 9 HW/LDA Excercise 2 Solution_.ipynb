{
 "cells": [
  {
   "cell_type": "markdown",
   "metadata": {},
   "source": [
    "# Excercise 2\n",
    "\n",
    "In Excercise 1, we computed the LDA for a multi-class problem, the IRIS dataset. In this excercise, we will now compare the LDA and PCA for the IRIS dataset.\n",
    "\n",
    "To revisit, the iris dataset contains measurements for 150 iris flowers from three different species.\n",
    "\n",
    "The three classes in the Iris dataset:\n",
    "1. Iris-setosa (n=50)\n",
    "2. Iris-versicolor (n=50)\n",
    "3. Iris-virginica (n=50)\n",
    "\n",
    "The four features of the Iris dataset:\n",
    "1. sepal length in cm\n",
    "2. sepal width in cm\n",
    "3. petal length in cm\n",
    "4. petal width in cm\n",
    "\n",
    "<img src=\"iris_petal_sepal.png\">\n",
    "\n"
   ]
  },
  {
   "cell_type": "code",
   "execution_count": 7,
   "metadata": {},
   "outputs": [],
   "source": [
    "from sklearn.datasets import make_classification\n",
    "import matplotlib.pyplot as plt\n",
    "import numpy as np\n",
    "import seaborn as sns; sns.set();\n",
    "import pandas as pd\n",
    "from sklearn.model_selection import train_test_split\n",
    "from numpy import pi"
   ]
  },
  {
   "cell_type": "markdown",
   "metadata": {},
   "source": [
    "### Importing the dataset"
   ]
  },
  {
   "cell_type": "code",
   "execution_count": 8,
   "metadata": {},
   "outputs": [
    {
     "data": {
      "text/html": [
       "<div>\n",
       "<style scoped>\n",
       "    .dataframe tbody tr th:only-of-type {\n",
       "        vertical-align: middle;\n",
       "    }\n",
       "\n",
       "    .dataframe tbody tr th {\n",
       "        vertical-align: top;\n",
       "    }\n",
       "\n",
       "    .dataframe thead th {\n",
       "        text-align: right;\n",
       "    }\n",
       "</style>\n",
       "<table border=\"1\" class=\"dataframe\">\n",
       "  <thead>\n",
       "    <tr style=\"text-align: right;\">\n",
       "      <th></th>\n",
       "      <th>sepal-length</th>\n",
       "      <th>sepal-width</th>\n",
       "      <th>petal-length</th>\n",
       "      <th>petal-width</th>\n",
       "      <th>Class</th>\n",
       "    </tr>\n",
       "  </thead>\n",
       "  <tbody>\n",
       "    <tr>\n",
       "      <th>145</th>\n",
       "      <td>6.7</td>\n",
       "      <td>3.0</td>\n",
       "      <td>5.2</td>\n",
       "      <td>2.3</td>\n",
       "      <td>Iris-virginica</td>\n",
       "    </tr>\n",
       "    <tr>\n",
       "      <th>146</th>\n",
       "      <td>6.3</td>\n",
       "      <td>2.5</td>\n",
       "      <td>5.0</td>\n",
       "      <td>1.9</td>\n",
       "      <td>Iris-virginica</td>\n",
       "    </tr>\n",
       "    <tr>\n",
       "      <th>147</th>\n",
       "      <td>6.5</td>\n",
       "      <td>3.0</td>\n",
       "      <td>5.2</td>\n",
       "      <td>2.0</td>\n",
       "      <td>Iris-virginica</td>\n",
       "    </tr>\n",
       "    <tr>\n",
       "      <th>148</th>\n",
       "      <td>6.2</td>\n",
       "      <td>3.4</td>\n",
       "      <td>5.4</td>\n",
       "      <td>2.3</td>\n",
       "      <td>Iris-virginica</td>\n",
       "    </tr>\n",
       "    <tr>\n",
       "      <th>149</th>\n",
       "      <td>5.9</td>\n",
       "      <td>3.0</td>\n",
       "      <td>5.1</td>\n",
       "      <td>1.8</td>\n",
       "      <td>Iris-virginica</td>\n",
       "    </tr>\n",
       "  </tbody>\n",
       "</table>\n",
       "</div>"
      ],
      "text/plain": [
       "     sepal-length  sepal-width  petal-length  petal-width           Class\n",
       "145           6.7          3.0           5.2          2.3  Iris-virginica\n",
       "146           6.3          2.5           5.0          1.9  Iris-virginica\n",
       "147           6.5          3.0           5.2          2.0  Iris-virginica\n",
       "148           6.2          3.4           5.4          2.3  Iris-virginica\n",
       "149           5.9          3.0           5.1          1.8  Iris-virginica"
      ]
     },
     "execution_count": 8,
     "metadata": {},
     "output_type": "execute_result"
    }
   ],
   "source": [
    "url = \"https://archive.ics.uci.edu/ml/machine-learning-databases/iris/iris.data\"\n",
    "names = ['sepal-length', 'sepal-width', 'petal-length', 'petal-width', 'Class']\n",
    "dataset = pd.read_csv(url, names=names)\n",
    "\n",
    "dataset.tail()"
   ]
  },
  {
   "cell_type": "markdown",
   "metadata": {},
   "source": [
    "### Data preprocessing\n",
    "\n",
    "Once dataset is loaded into a pandas data frame object, the first step is to divide dataset into features and corresponding labels and then divide the resultant dataset into training and test sets. The following code divides data into labels and feature set:"
   ]
  },
  {
   "cell_type": "code",
   "execution_count": 9,
   "metadata": {},
   "outputs": [],
   "source": [
    "X = dataset.iloc[:, 0:4].values\n",
    "y = dataset.iloc[:, 4].values"
   ]
  },
  {
   "cell_type": "markdown",
   "metadata": {},
   "source": [
    "The above script assigns the first four columns of the dataset i.e. the feature set to X variable while the values in the fifth column (labels) are assigned to the y variable.\n",
    "\n",
    "The following code divides data into training and test sets:"
   ]
  },
  {
   "cell_type": "code",
   "execution_count": 10,
   "metadata": {},
   "outputs": [],
   "source": [
    "from sklearn.model_selection import train_test_split\n",
    "\n",
    "X_train, X_test, y_train, y_test = train_test_split(X, y, test_size=0.2, random_state=0)"
   ]
  },
  {
   "cell_type": "markdown",
   "metadata": {},
   "source": [
    "#### Feature Scaling\n",
    "\n",
    "We will now perform feature scaling as part of data preprocessing too. For this task, we will be using scikit learn `StandardScalar`."
   ]
  },
  {
   "cell_type": "code",
   "execution_count": 11,
   "metadata": {},
   "outputs": [],
   "source": [
    "from sklearn.preprocessing import StandardScaler\n",
    "\n",
    "sc = StandardScaler()\n",
    "X_train = sc.fit_transform(X_train)\n",
    "X_test = sc.transform(X_test)"
   ]
  },
  {
   "cell_type": "markdown",
   "metadata": {},
   "source": [
    "## Write your code below\n",
    "\n",
    "Write your code to compute the PCA and LDA on the IRIS dataset below."
   ]
  },
  {
   "cell_type": "code",
   "execution_count": 41,
   "metadata": {},
   "outputs": [
    {
     "name": "stdout",
     "output_type": "stream",
     "text": [
      "Eigenvalues in decreasing order:\n",
      "\n",
      "1251.263050026292\n",
      "11.198793432068287\n",
      "3.6750063895533494e-13\n",
      "4.4859533429483695e-14\n"
     ]
    }
   ],
   "source": [
    "### WRITE YOUR CODE HERE ####\n",
    "from sklearn.preprocessing import LabelEncoder\n",
    "class_le = LabelEncoder()\n",
    "y = class_le.fit_transform(y_train)\n",
    "\n",
    "# Between class \n",
    "N=np.bincount(y) # number of samples for given class\n",
    "vecs=[]\n",
    "[vecs.append(np.mean(X_train[y==i],axis=0)) for i in range(3)] # class means\n",
    "mean_overall = np.mean(X_train, axis=0) # overall mean\n",
    "S_B=np.zeros((4,4))\n",
    "for i in range(3):\n",
    "    S_B += N[i]*(((vecs[i]-mean_overall).reshape(4,1)).dot(((vecs[i]-mean_overall).reshape(1,4))))\n",
    "\n",
    "# Within class \n",
    "S_W = np.zeros((4,4))\n",
    "for i in range(3):\n",
    "    S_W += np.cov(X_train[y==i].T)\n",
    "\n",
    "# Sorted components \n",
    "eigen_vals, eigen_vecs = np.linalg.eig(np.linalg.inv(S_W).dot(S_B))\n",
    "eigen_pairs = [(np.abs(eigen_vals[i]), eigen_vecs[:,i]) for i in range(len(eigen_vals))]\n",
    "eigen_pairs = sorted(eigen_pairs,key=lambda k: k[0], reverse=True)\n",
    "print('Eigenvalues in decreasing order:\\n')\n",
    "for eigen_val in eigen_pairs:\n",
    "    print(eigen_val[0] )\n",
    "    \n"
   ]
  },
  {
   "cell_type": "code",
   "execution_count": 44,
   "metadata": {},
   "outputs": [
    {
     "data": {
      "image/png": "[encoded data removed]",
      "text/plain": [
       "<Figure size 432x288 with 1 Axes>"
      ]
     },
     "metadata": {},
     "output_type": "display_data"
    }
   ],
   "source": [
    "tot = sum(eigen_vals.real)\n",
    "discr = [(i / tot) for i in sorted(eigen_vals.real, reverse=True)]\n",
    "cum_discr = np.cumsum(discr)\n",
    "#plt.bar(range(1, 5), discr, width=0.2,alpha=0.5, align='center',label='individual \"discriminability\"')\n",
    "plt.step(range(1, 5), cum_discr, where='mid',label='cumulative \"discriminability\"')\n",
    "plt.ylabel('\"discriminability\" ratio')\n",
    "plt.xlabel('Linear Discriminants')\n",
    "plt.ylim([-0.1, 1.1])\n",
    "plt.legend(loc='best')\n",
    "plt.show()"
   ]
  },
  {
   "cell_type": "code",
   "execution_count": 47,
   "metadata": {},
   "outputs": [
    {
     "data": {
      "text/plain": [
       "(1251.263050026292,\n",
       " array([-0.17769548, -0.12258678,  0.86253675,  0.45763212]))"
      ]
     },
     "execution_count": 47,
     "metadata": {},
     "output_type": "execute_result"
    }
   ],
   "source": [
    "eigen_pairs[0]\n"
   ]
  },
  {
   "cell_type": "markdown",
   "metadata": {},
   "source": [
    "Here weights vector [-0.17769548, -0.12258678,  0.86253675,  0.45763212] is the linear discremant that identifies maximum variance between classes in new feature space"
   ]
  },
  {
   "cell_type": "markdown",
   "metadata": {},
   "source": [
    "# PCA"
   ]
  },
  {
   "cell_type": "code",
   "execution_count": 23,
   "metadata": {},
   "outputs": [],
   "source": [
    "cov_matrix = np.cov(X_train)"
   ]
  },
  {
   "cell_type": "code",
   "execution_count": 25,
   "metadata": {},
   "outputs": [],
   "source": [
    "#By process of eigen decomposition we will get our first component that will explain the maximum variance\n",
    "eig_val , eig_vec = np.linalg.eig(cov_matrix)"
   ]
  },
  {
   "cell_type": "code",
   "execution_count": 27,
   "metadata": {},
   "outputs": [
    {
     "name": "stdout",
     "output_type": "stream",
     "text": [
      "Eigenvalues in decreasing order:\n",
      "\n",
      "74.41552624902947\n",
      "6.502086602963249\n",
      "0.9127765638992158\n",
      "4.993267470025641e-15\n",
      "4.993267470025641e-15\n",
      "4.912758025962109e-15\n",
      "4.912758025962109e-15\n",
      "4.893073419899712e-15\n",
      "4.893073419899712e-15\n",
      "4.746630473203109e-15\n",
      "4.746630473203109e-15\n",
      "4.675177531304469e-15\n",
      "4.675177531304469e-15\n",
      "4.442396056265063e-15\n",
      "4.442396056265063e-15\n",
      "3.753079992157626e-15\n",
      "3.753079992157626e-15\n",
      "3.420453917253303e-15\n",
      "3.420453917253303e-15\n",
      "2.935068717374557e-15\n",
      "2.935068717374557e-15\n",
      "2.88998856365025e-15\n",
      "2.88998856365025e-15\n",
      "2.3862158705983395e-15\n",
      "2.3862158705983395e-15\n",
      "2.2602178268199485e-15\n",
      "2.16115470015419e-15\n",
      "2.16115470015419e-15\n",
      "2.1062322429840075e-15\n",
      "2.1062322429840075e-15\n",
      "1.9892897071487574e-15\n",
      "1.9892897071487574e-15\n",
      "1.8079663938632754e-15\n",
      "1.8079663938632754e-15\n",
      "1.371840300914351e-15\n",
      "1.371840300914351e-15\n",
      "1.353974353879272e-15\n",
      "1.3212405525177843e-15\n",
      "1.3212405525177843e-15\n",
      "1.2966437875650814e-15\n",
      "1.2966437875650814e-15\n",
      "1.2424616668428852e-15\n",
      "1.2424616668428852e-15\n",
      "1.1885380163769728e-15\n",
      "1.1868732828361034e-15\n",
      "1.1868732828361034e-15\n",
      "1.1280838805084146e-15\n",
      "1.1280838805084146e-15\n",
      "1.0870373585583235e-15\n",
      "1.0870373585583235e-15\n",
      "1.0307380364934056e-15\n",
      "1.0260054235366844e-15\n",
      "1.0260054235366844e-15\n",
      "9.221848803843023e-16\n",
      "9.221848803843023e-16\n",
      "9.181014525775693e-16\n",
      "9.181014525775693e-16\n",
      "9.05333964385575e-16\n",
      "9.05333964385575e-16\n",
      "9.014933294564419e-16\n",
      "8.686835521764097e-16\n",
      "8.686835521764097e-16\n",
      "8.418059083250631e-16\n",
      "8.418059083250631e-16\n",
      "7.059181954894358e-16\n",
      "7.059181954894358e-16\n",
      "6.782468983708309e-16\n",
      "6.73182382129704e-16\n",
      "6.73182382129704e-16\n",
      "6.409954844206327e-16\n",
      "6.409954844206327e-16\n",
      "6.362245755936546e-16\n",
      "6.362245755936546e-16\n",
      "6.353295050382516e-16\n",
      "6.353295050382516e-16\n",
      "5.134814060263677e-16\n",
      "5.134814060263677e-16\n",
      "4.990313159519167e-16\n",
      "4.990313159519167e-16\n",
      "4.751834960786879e-16\n",
      "4.751834960786879e-16\n",
      "4.0743976918052736e-16\n",
      "4.0743976918052736e-16\n",
      "3.781315052735601e-16\n",
      "3.781315052735601e-16\n",
      "3.7539664886632647e-16\n",
      "3.7539664886632647e-16\n",
      "3.643829801325832e-16\n",
      "3.643829801325832e-16\n",
      "3.542269251993463e-16\n",
      "3.542269251993463e-16\n",
      "2.931002404676424e-16\n",
      "2.931002404676424e-16\n",
      "2.6220128505652037e-16\n",
      "2.6220128505652037e-16\n",
      "2.4308346427819505e-16\n",
      "2.4308346427819505e-16\n",
      "2.293604125623852e-16\n",
      "2.182549893313456e-16\n",
      "2.182549893313456e-16\n",
      "2.1274779997304162e-16\n",
      "2.1274779997304162e-16\n",
      "1.7703233291361438e-16\n",
      "1.7703233291361438e-16\n",
      "1.3293687699552371e-16\n",
      "1.3293687699552371e-16\n",
      "9.58314332833826e-17\n",
      "9.58314332833826e-17\n",
      "9.461944941790995e-17\n",
      "9.461944941790995e-17\n",
      "8.142870149575141e-17\n",
      "8.142870149575141e-17\n",
      "7.474848746791114e-17\n",
      "5.802930260362697e-17\n",
      "4.283780866806992e-17\n",
      "4.283780866806992e-17\n",
      "4.0641141944958044e-17\n",
      "3.663747752450246e-17\n",
      "3.663747752450246e-17\n",
      "1.5133653004329196e-17\n"
     ]
    }
   ],
   "source": [
    "eigen_pairs = [(np.abs(eig_val[i]), eig_vec[:,i]) for i in range(len(eig_val))]\n",
    "eigen_pairs = sorted(eigen_pairs,key=lambda k: k[0], reverse=True)\n",
    "print('Eigenvalues in decreasing order:\\n')\n",
    "for eigen_vals in eigen_pairs:\n",
    "    print(eigen_vals[0] )\n",
    "    "
   ]
  },
  {
   "cell_type": "code",
   "execution_count": 39,
   "metadata": {},
   "outputs": [
    {
     "name": "stdout",
     "output_type": "stream",
     "text": [
      "(1.0000000000000002-1.5407439555097887e-32j)\n"
     ]
    }
   ],
   "source": [
    "explained_variances = []\n",
    "for i in range(len(eig_val)):\n",
    "    explained_variances.append(eig_val[i] / np.sum(eig_val))\n",
    " \n",
    "print(np.sum(explained_variances))\n",
    "\n",
    "# Total variance explained in data is 100%"
   ]
  },
  {
   "cell_type": "markdown",
   "metadata": {},
   "source": [
    "# Conclusion \n",
    "PCA identifies those attributes in feature space which account for most variance in data. \n",
    "LDA on the other hand identifies attributes that will contribute to maximum variance between classes.\n",
    "\n",
    "PCA is an Unsupervised approach. LDA is a supervised approach as it works with labels.\n"
   ]
  },
  {
   "cell_type": "code",
   "execution_count": null,
   "metadata": {},
   "outputs": [],
   "source": []
  }
 ],
 "metadata": {
  "kernelspec": {
   "display_name": "Python 3",
   "language": "python",
   "name": "python3"
  },
  "language_info": {
   "codemirror_mode": {
    "name": "ipython",
    "version": 3
   },
   "file_extension": ".py",
   "mimetype": "text/x-python",
   "name": "python",
   "nbconvert_exporter": "python",
   "pygments_lexer": "ipython3",
   "version": "3.7.3"
  }
 },
 "nbformat": 4,
 "nbformat_minor": 2
}
